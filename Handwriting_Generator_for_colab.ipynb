{
  "nbformat": 4,
  "nbformat_minor": 0,
  "metadata": {
    "kernelspec": {
      "display_name": "Python 2",
      "language": "python",
      "name": "python2"
    },
    "language_info": {
      "codemirror_mode": {
        "name": "ipython",
        "version": 3
      },
      "file_extension": ".py",
      "mimetype": "text/x-python",
      "name": "python",
      "nbconvert_exporter": "python",
      "pygments_lexer": "ipython3",
      "version": "3.6.9"
    },
    "colab": {
      "name": "Handwriting Generator for colab.ipynb",
      "provenance": [],
      "toc_visible": true,
      "include_colab_link": true
    },
    "accelerator": "GPU"
  },
  "cells": [
    {
      "cell_type": "markdown",
      "metadata": {
        "id": "view-in-github",
        "colab_type": "text"
      },
      "source": [
        "<a href=\"https://colab.research.google.com/github/gsaltintas/handwriting_generation/blob/master/Handwriting_Generator_for_colab.ipynb\" target=\"_parent\"><img src=\"https://colab.research.google.com/assets/colab-badge.svg\" alt=\"Open In Colab\"/></a>"
      ]
    },
    {
      "cell_type": "code",
      "metadata": {
        "id": "6Mj44JpoMErl",
        "colab_type": "code",
        "outputId": "d766ab47-fac5-4d48-8144-c295ce78642d",
        "colab": {
          "base_uri": "https://localhost:8080/",
          "height": 34
        }
      },
      "source": [
        "# Repo works with Python 2.7\n",
        "! python --version"
      ],
      "execution_count": 1,
      "outputs": [
        {
          "output_type": "stream",
          "text": [
            "Python 2.7.17\n"
          ],
          "name": "stdout"
        }
      ]
    },
    {
      "cell_type": "code",
      "metadata": {
        "id": "mUj2FWLaL3fe",
        "colab_type": "code",
        "colab": {}
      },
      "source": [
        "import os\n",
        "import sys"
      ],
      "execution_count": 0,
      "outputs": []
    },
    {
      "cell_type": "code",
      "metadata": {
        "id": "dw8mPT4oSHNt",
        "colab_type": "code",
        "colab": {
          "base_uri": "https://localhost:8080/",
          "height": 34
        },
        "outputId": "ba756326-6a5b-40f6-83f1-2ac5666be080"
      },
      "source": [
        "import torch\n",
        "\n",
        "use_cuda = torch.cuda.is_available()\n",
        "if use_cuda:\n",
        "  print('Gpu is all set')\n",
        "else:\n",
        "  print('Please enable gpu')"
      ],
      "execution_count": 3,
      "outputs": [
        {
          "output_type": "stream",
          "text": [
            "Gpu is all set\n"
          ],
          "name": "stdout"
        }
      ]
    },
    {
      "cell_type": "code",
      "metadata": {
        "id": "s4bNNgdyL3fq",
        "colab_type": "code",
        "colab": {}
      },
      "source": [
        "# from google.colab import drive\n",
        "# drive.mount('/content/drive')"
      ],
      "execution_count": 0,
      "outputs": []
    },
    {
      "cell_type": "code",
      "metadata": {
        "id": "llVo7F-SL3f0",
        "colab_type": "code",
        "outputId": "c7325afa-c3e0-4d0c-b47a-6392cdadb2e8",
        "colab": {
          "base_uri": "https://localhost:8080/",
          "height": 136
        }
      },
      "source": [
        "path = os.path.abspath('/content')\n",
        "if not 'handwriting_generation' in os.listdir(path):\n",
        "  ! git clone https://github.com/gsaltintas/handwriting_generation.git\n",
        "  sys.path.append('handwriting_generation')\n",
        "  print('Cloned repo')"
      ],
      "execution_count": 5,
      "outputs": [
        {
          "output_type": "stream",
          "text": [
            "Cloning into 'handwriting_generation'...\n",
            "remote: Enumerating objects: 13, done.\u001b[K\n",
            "remote: Counting objects: 100% (13/13), done.\u001b[K\n",
            "remote: Compressing objects: 100% (9/9), done.\u001b[K\n",
            "remote: Total 90 (delta 3), reused 9 (delta 3), pack-reused 77\u001b[K\n",
            "Unpacking objects: 100% (90/90), done.\n",
            "Cloned repo\n"
          ],
          "name": "stdout"
        }
      ]
    },
    {
      "cell_type": "code",
      "metadata": {
        "id": "u86UhhGoL3f_",
        "colab_type": "code",
        "colab": {}
      },
      "source": [
        "handwriting_path = (os.path.join(path, 'handwriting_generation'))\n",
        "os.chdir(handwriting_path)"
      ],
      "execution_count": 0,
      "outputs": []
    },
    {
      "cell_type": "code",
      "metadata": {
        "id": "_jb3_LQ-NiR0",
        "colab_type": "code",
        "outputId": "7fa02d58-c992-45b2-b1aa-8c9fcb139e2b",
        "colab": {
          "base_uri": "https://localhost:8080/",
          "height": 34
        }
      },
      "source": [
        "import sys\n",
        "if 'drive' in dir() and '/content/drive' in os.listdir(path):\n",
        "  print('Drive already mounted will be saving to drive')\n",
        "  save_path = '/content/drive/My Drive/Handwriting Results'\n",
        "else:\n",
        "  save_path = 'results'\n",
        "  if not 'results' in os.listdir(handwriting_path):\n",
        "    ! mkdir results\n",
        "  print('Drive not mounted, will be saving to temporary folder: %s' % save_path)"
      ],
      "execution_count": 7,
      "outputs": [
        {
          "output_type": "stream",
          "text": [
            "Drive not mounted, will be saving to temporary folder: results\n"
          ],
          "name": "stdout"
        }
      ]
    },
    {
      "cell_type": "markdown",
      "metadata": {
        "id": "a91rMzGcPYpo",
        "colab_type": "text"
      },
      "source": [
        "# Training\n",
        "To perform training uncomment and run the following section.\n"
      ]
    },
    {
      "cell_type": "code",
      "metadata": {
        "id": "QX_nXiCLMGDN",
        "colab_type": "code",
        "colab": {}
      },
      "source": [
        "! python data_preprocessing.py"
      ],
      "execution_count": 0,
      "outputs": []
    },
    {
      "cell_type": "code",
      "metadata": {
        "id": "WClomvuyPWcl",
        "colab_type": "code",
        "colab": {}
      },
      "source": [
        "# ! python train.py --task 'rand_write'"
      ],
      "execution_count": 0,
      "outputs": []
    },
    {
      "cell_type": "code",
      "metadata": {
        "id": "16YJhN95My96",
        "colab_type": "code",
        "colab": {}
      },
      "source": [
        "# ! python train.py --task 'synthesis'"
      ],
      "execution_count": 0,
      "outputs": []
    },
    {
      "cell_type": "markdown",
      "metadata": {
        "id": "c1y2OKh_Pief",
        "colab_type": "text"
      },
      "source": [
        "# Handwriting Generator"
      ]
    },
    {
      "cell_type": "code",
      "metadata": {
        "id": "8zHUcV04L3gJ",
        "colab_type": "code",
        "colab": {}
      },
      "source": [
        "from generate import generate_unconditionally, generate_conditionally"
      ],
      "execution_count": 0,
      "outputs": []
    },
    {
      "cell_type": "code",
      "metadata": {
        "id": "IIP3I4LVL_j4",
        "colab_type": "code",
        "colab": {}
      },
      "source": [
        "# save_id = 0\n",
        "# if len(os.listdir(savepath)) != 0:\n",
        "#   save_id = max(os.listdir(save_path)).split()\n",
        "save_name = os.path.join(save_path, 'unconditional')\n",
        "generate_unconditionally(save_name=save_name)"
      ],
      "execution_count": 0,
      "outputs": []
    },
    {
      "cell_type": "code",
      "metadata": {
        "id": "b2bzzgWWP1Mg",
        "colab_type": "code",
        "colab": {
          "base_uri": "https://localhost:8080/",
          "height": 392
        },
        "outputId": "09c81ca8-f44a-4e8e-c13e-2a952c90be90"
      },
      "source": [
        "save_name_cond = os.path.join(save_path, 'conditional2')\n",
        "generate_conditionally('hand writing generation is hard!', random_state=600, save_name=save_name_cond)"
      ],
      "execution_count": 18,
      "outputs": [
        {
          "output_type": "display_data",
          "data": {
            "image/png": "[encoded data removed]",
            "text/plain": [
              "<Figure size 864x432 with 1 Axes>"
            ]
          },
          "metadata": {
            "tags": [],
            "needs_background": "light"
          }
        }
      ]
    },
    {
      "cell_type": "code",
      "metadata": {
        "id": "c8y9ISioVgr7",
        "colab_type": "code",
        "colab": {}
      },
      "source": [
        ""
      ],
      "execution_count": 0,
      "outputs": []
    }
  ]
}